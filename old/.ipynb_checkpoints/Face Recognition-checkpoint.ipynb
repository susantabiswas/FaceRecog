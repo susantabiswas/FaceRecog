{
 "cells": [
  {
   "cell_type": "markdown",
   "metadata": {},
   "source": [
    "# <u>Face Recognition System\n",
    "\n",
    "Nowadays there are many ways of authenticating yourself, like using password, retina scan, fingerprint etc. Face can also be used for this purpose. In this notebook we will make a face recognition system using Siamese network.\n",
    "This is different from face verification where the task is to know whether given two input images are same or not.\n",
    "Here the task is see whether the given input image is of any person who is registered with the system or not. There can be multiple users registered with the system.\n",
    "\n",
    "The advantage of **Siamese Network** is that it allows a way to do this sort of verification task with very little user data, as it is quite unreasonable to train using thousands of images for each user. Here we will be using **FaceNet Model**.\n",
    "\n",
    "FaceNet learns a neural network that encodes a face image into a vector of 128 numbers. So by comparing two such vectors, we can then determine if two pictures are of the same person."
   ]
  },
  {
   "cell_type": "code",
   "execution_count": 1,
   "metadata": {},
   "outputs": [
    {
     "name": "stderr",
     "output_type": "stream",
     "text": [
      "Using TensorFlow backend.\n"
     ]
    }
   ],
   "source": [
    "from keras.models import Sequential\n",
    "from keras.layers import Conv2D, ZeroPadding2D, Activation, Input, concatenate\n",
    "from keras.models import Model\n",
    "from keras.layers.normalization import BatchNormalization\n",
    "from keras.layers.pooling import MaxPooling2D, AveragePooling2D\n",
    "from keras.layers.merge import Concatenate\n",
    "from keras.layers.core import Lambda, Flatten, Dense\n",
    "from keras.initializers import glorot_uniform\n",
    "from keras.engine.topology import Layer\n",
    "from keras import backend as K\n",
    "from keras.models import load_model\n",
    "K.set_image_data_format('channels_first')\n",
    "\n",
    "import pickle\n",
    "import cv2\n",
    "import os.path\n",
    "import os\n",
    "import numpy as np\n",
    "from numpy import genfromtxt\n",
    "import pandas as pd\n",
    "import tensorflow as tf\n",
    "from utility import *\n",
    "from webcam_utility import *"
   ]
  },
  {
   "cell_type": "markdown",
   "metadata": {},
   "source": [
    "## Model\n",
    "The model makes an encoding vector consisting of 128 numbers for the input image. Two encodings are compared and if the two encodings are similar then we say that the two images are of the same person otherwise they are different. \n",
    "The model uses **Triplet loss function**. The aim is to minimize this function."
   ]
  },
  {
   "cell_type": "code",
   "execution_count": 2,
   "metadata": {},
   "outputs": [],
   "source": [
    "# triplet loss function\n",
    "#  y_pred - list containing three objects:\n",
    "#         anchor(None, 128) -- encodings for the anchor images\n",
    "#         positive(None, 128) -- encodings for the positive images\n",
    "#         negative(None, 128) -- encodings for the negative images\n",
    "def triplet_loss(y_true, y_pred, alpha = 0.2):\n",
    "    anchor, positive, negative = y_pred[0], y_pred[1], y_pred[2]\n",
    "    \n",
    "    # triplet formula components\n",
    "    pos_dist = tf.reduce_sum( tf.square(tf.subtract(y_pred[0], y_pred[1])) )\n",
    "    neg_dist = tf.reduce_sum( tf.square(tf.subtract(y_pred[0], y_pred[2])) )\n",
    "    basic_loss = pos_dist - neg_dist + alpha\n",
    "    \n",
    "    loss = tf.maximum(basic_loss, 0.0)\n",
    "   \n",
    "    return loss"
   ]
  },
  {
   "cell_type": "markdown",
   "metadata": {},
   "source": [
    "### Loading the Model\n",
    "The model outputs a vector of 128 numbers which represent encoding for the given input image. We will be using this encoding vector for comparing two images.\n",
    "#### Input\n",
    "- This network takes as input 96x96 RGB image as its input. Specifically, inputs a tensor of shape $(m, n_C, n_H, n_W)$ , where $n_C$ = channel.\n",
    "\n",
    "#### Output\n",
    "- A matrix of shape **(m, 128)** where the 128 numbers are the encoding values for $ith$ image."
   ]
  },
  {
   "cell_type": "code",
   "execution_count": 3,
   "metadata": {},
   "outputs": [
    {
     "name": "stdout",
     "output_type": "stream",
     "text": [
      "WARNING:tensorflow:From c:\\users\\seeker\\anaconda3\\envs\\tensorflow-cpu\\lib\\site-packages\\tensorflow_core\\python\\ops\\resource_variable_ops.py:1630: calling BaseResourceVariable.__init__ (from tensorflow.python.ops.resource_variable_ops) with constraint is deprecated and will be removed in a future version.\n",
      "Instructions for updating:\n",
      "If using Keras pass *_constraint arguments to layers.\n",
      "WARNING:tensorflow:From c:\\users\\seeker\\anaconda3\\envs\\tensorflow-cpu\\lib\\site-packages\\keras\\backend\\tensorflow_backend.py:4070: The name tf.nn.max_pool is deprecated. Please use tf.nn.max_pool2d instead.\n",
      "\n",
      "WARNING:tensorflow:From c:\\users\\seeker\\anaconda3\\envs\\tensorflow-cpu\\lib\\site-packages\\keras\\backend\\tensorflow_backend.py:4074: The name tf.nn.avg_pool is deprecated. Please use tf.nn.avg_pool2d instead.\n",
      "\n"
     ]
    }
   ],
   "source": [
    "# load the model\n",
    "FRmodel = load_model('models/model.h5', custom_objects={'triplet_loss': triplet_loss})"
   ]
  },
  {
   "cell_type": "markdown",
   "metadata": {},
   "source": [
    "### User Database\n",
    "\n",
    "We will create a database of registered. For this we will use a simple dictionary and map each registered user with his/her face encoding."
   ]
  },
  {
   "cell_type": "code",
   "execution_count": 4,
   "metadata": {},
   "outputs": [],
   "source": [
    "# initialize the user database\n",
    "def ini_user_database():\n",
    "    # check for existing database\n",
    "    if os.path.exists('database/user_dict.pickle'):\n",
    "        with open('database/user_dict.pickle', 'rb') as handle:\n",
    "            user_db = pickle.load(handle)   \n",
    "    else:\n",
    "        # make a new one\n",
    "        # we use a dict for keeping track of mapping of each person with his/her face encoding\n",
    "        user_db = {}\n",
    "        # create the directory for saving the db pickle file\n",
    "        os.makedirs('database')\n",
    "        with open('database/user_dict.pickle', 'wb') as handle:\n",
    "            pickle.dump(user_db, handle, protocol=pickle.HIGHEST_PROTOCOL)   \n",
    "    return user_db"
   ]
  },
  {
   "cell_type": "code",
   "execution_count": 5,
   "metadata": {},
   "outputs": [],
   "source": [
    "# adds a new user face to the database using his/her image stored on disk using the image path\n",
    "def add_user_img_path(user_db, FRmodel, name, img_path):\n",
    "    if name not in user_db: \n",
    "        user_db[name] = img_to_encoding(img_path, FRmodel)\n",
    "        # save the database\n",
    "        with open('database/user_dict.pickle', 'wb') as handle:\n",
    "                pickle.dump(user_db, handle, protocol=pickle.HIGHEST_PROTOCOL)\n",
    "        print('User ' + name + ' added successfully')\n",
    "    else:\n",
    "        print('The name is already registered! Try a different name.........')"
   ]
  },
  {
   "cell_type": "code",
   "execution_count": 6,
   "metadata": {},
   "outputs": [],
   "source": [
    "# adds a new user using image taken from webcam\n",
    "def add_user_webcam(user_db, FRmodel, name):\n",
    "    # we can use the webcam to capture the user image then get it recognized\n",
    "    face_found = detect_face(user_db, FRmodel)\n",
    "\n",
    "    if face_found:\n",
    "        resize_img(\"saved_image/1.jpg\")\n",
    "        if name not in user_db: \n",
    "            add_user_img_path(user_db, FRmodel, name, \"saved_image/1.jpg\")\n",
    "        else:\n",
    "            print('The name is already registered! Try a different name.........')\n",
    "    else:\n",
    "        print('There was no face found in the visible frame. Try again...........')"
   ]
  },
  {
   "cell_type": "code",
   "execution_count": 7,
   "metadata": {},
   "outputs": [],
   "source": [
    "# deletes a registered user from database\n",
    "def delete_user(user_db, name):\n",
    "    popped = user_db.pop(name, None)\n",
    "    \n",
    "    if popped is not None:\n",
    "        print('User ' + name + ' deleted successfully')\n",
    "        # save the database\n",
    "        with open('database/user_dict.pickle', 'wb') as handle:\n",
    "                pickle.dump(user_db, handle, protocol=pickle.HIGHEST_PROTOCOL)\n",
    "    elif popped == None:\n",
    "        print('No such user !!')"
   ]
  },
  {
   "cell_type": "markdown",
   "metadata": {},
   "source": [
    "### Add or delete user "
   ]
  },
  {
   "cell_type": "code",
   "execution_count": 8,
   "metadata": {},
   "outputs": [],
   "source": [
    "# we use a dict for keeping track of mapping of each person with his/her face encoding\n",
    "user_db = ini_user_database()"
   ]
  },
  {
   "cell_type": "code",
   "execution_count": 9,
   "metadata": {},
   "outputs": [
    {
     "name": "stdout",
     "output_type": "stream",
     "text": [
      "WARNING:tensorflow:From c:\\users\\seeker\\anaconda3\\envs\\tensorflow-cpu\\lib\\site-packages\\keras\\backend\\tensorflow_backend.py:422: The name tf.global_variables is deprecated. Please use tf.compat.v1.global_variables instead.\n",
      "\n",
      "User chris added successfully\n"
     ]
    }
   ],
   "source": [
    "# add a user\n",
    "add_user_img_path(user_db, FRmodel, \"chris\", \"images/1.jpg\")"
   ]
  },
  {
   "cell_type": "code",
   "execution_count": 10,
   "metadata": {},
   "outputs": [
    {
     "name": "stdout",
     "output_type": "stream",
     "text": [
      "There was no face found in the visible frame. Try again...........\n"
     ]
    }
   ],
   "source": [
    "add_user_webcam(user_db, FRmodel, \"susanta\")"
   ]
  },
  {
   "cell_type": "code",
   "execution_count": 25,
   "metadata": {},
   "outputs": [
    {
     "name": "stdout",
     "output_type": "stream",
     "text": [
      "User susanta deleted successfully\n"
     ]
    }
   ],
   "source": [
    "delete_user(user_db, \"susanta\")"
   ]
  },
  {
   "cell_type": "markdown",
   "metadata": {},
   "source": [
    "### Putting everything together\n",
    "For making this face recognition system we are going to take the input image, find its encoding and then see if there is any similar encoding in the database or not. We define a threshold value to decide whether the two images are similar or not based on the similarity of their encodings."
   ]
  },
  {
   "cell_type": "code",
   "execution_count": 11,
   "metadata": {},
   "outputs": [],
   "source": [
    "# recognize the input user face encoding by checking for it in the database\n",
    "def find_face(image_path, database, model, threshold = 0.6):\n",
    "    # find the face encodings for the input image\n",
    "    encoding = img_to_encoding(image_path, model)\n",
    "    \n",
    "    min_dist = 99999\n",
    "    # loop over all the recorded encodings in database \n",
    "    for name in database:\n",
    "        # find the similarity between the input encodings and claimed person's encodings using L2 norm\n",
    "        dist = np.linalg.norm(np.subtract(database[name], encoding) )\n",
    "        # check if minimum distance or not\n",
    "        if dist < min_dist:\n",
    "            min_dist = dist\n",
    "            identity = name\n",
    "\n",
    "    if min_dist > threshold:\n",
    "        print(\"User not in the database.\")\n",
    "        identity = 'Unknown Person'\n",
    "    else:\n",
    "        print (\"Hi! \" + str(identity) + \", L2 distance: \" + str(min_dist))\n",
    "        \n",
    "    return min_dist, identity"
   ]
  },
  {
   "cell_type": "code",
   "execution_count": 11,
   "metadata": {
    "scrolled": false
   },
   "outputs": [],
   "source": [
    "# takes an input image from webcam and performs face recognition on it\n",
    "def do_face_recognition_webcam(user_db, FRmodel, threshold = 0.7):\n",
    "    # we can use the webcam to capture the user image then get it recognized\n",
    "    face_found = detect_face(user_db, FRmodel)\n",
    "\n",
    "    if face_found:\n",
    "        # \"saved_image/1.jpg\": location where the temporary webcam images are saved\n",
    "        # resize the image for the model\n",
    "        resize_img(\"saved_image/1.jpg\")\n",
    "        find_face(img_loc, user_db, FRmodel, threshold)\n",
    "    else:\n",
    "        print('There was no face found in the visible frame. Try again...........')"
   ]
  },
  {
   "cell_type": "code",
   "execution_count": 12,
   "metadata": {},
   "outputs": [],
   "source": [
    "# takes an input image and performs face recognition on it\n",
    "def do_face_recognition_from_image(user_db, FRmodel, threshold = 0.7, img_loc = \"saved_image/1.jpg\"):\n",
    "    # resize the image\n",
    "    img = cv2.imread(img_loc, 1)\n",
    "    img = cv2.resize(img, (96, 96))\n",
    "    # save the temporary image\n",
    "    cv2.imwrite(\"saved_image/1.jpg\", img)\n",
    "\n",
    "    find_face(\"saved_image/1.jpg\", user_db, FRmodel, threshold)"
   ]
  },
  {
   "cell_type": "markdown",
   "metadata": {},
   "source": [
    "### <u>Run the face recognition system"
   ]
  },
  {
   "cell_type": "code",
   "execution_count": 32,
   "metadata": {},
   "outputs": [
    {
     "name": "stdout",
     "output_type": "stream",
     "text": [
      "There was no face found in the visible frame. Try again...........\n"
     ]
    }
   ],
   "source": [
    "# Using webcam\n",
    "do_face_recognition_webcam(user_db, FRmodel, 0.6)"
   ]
  },
  {
   "cell_type": "code",
   "execution_count": 13,
   "metadata": {},
   "outputs": [
    {
     "name": "stdout",
     "output_type": "stream",
     "text": [
      "Hi! chris, L2 distance: 0.06575262\n"
     ]
    }
   ],
   "source": [
    "# using image on disk\n",
    "do_face_recognition_from_image(user_db, FRmodel, threshold = 0.7, img_loc = \"images/1.jpg\")"
   ]
  },
  {
   "cell_type": "code",
   "execution_count": 27,
   "metadata": {},
   "outputs": [
    {
     "name": "stdout",
     "output_type": "stream",
     "text": [
      "**************** Enter \"q\" to quit **********************\n",
      "Welcome susanta!\n",
      "Welcome susanta!\n"
     ]
    }
   ],
   "source": [
    "detect_face_realtime(user_db, FRmodel, threshold = 0.7)"
   ]
  },
  {
   "cell_type": "markdown",
   "metadata": {},
   "source": [
    " "
   ]
  },
  {
   "cell_type": "markdown",
   "metadata": {},
   "source": [
    "### References:\n",
    "- A lot of code is based on the assignment from Convolutional Neural Networks Specialization by Deeplearning.ai on Coursera.<br>\n",
    "https://www.coursera.org/learn/convolutional-neural-networks/home/welcome \n",
    "- Florian Schroff, Dmitry Kalenichenko, James Philbin (2015). [FaceNet: A Unified Embedding for Face Recognition and Clustering](https://arxiv.org/pdf/1503.03832.pdf)\n",
    "- Yaniv Taigman, Ming Yang, Marc'Aurelio Ranzato, Lior Wolf (2014). [DeepFace: Closing the gap to human-level performance in face verification](https://research.fb.com/wp-content/uploads/2016/11/deepface-closing-the-gap-to-human-level-performance-in-face-verification.pdf) \n",
    "- The pretrained model used is inspired by Victor Sy Wang's implementation and was loaded using his code: https://github.com/iwantooxxoox/Keras-OpenFace.\n",
    "- A lot of inspiration from the official FaceNet github repository: https://github.com/davidsandberg/facenet "
   ]
  }
 ],
 "metadata": {
  "coursera": {
   "course_slug": "convolutional-neural-networks",
   "graded_item_id": "IaknP",
   "launcher_item_id": "5UMr4"
  },
  "kernelspec": {
   "display_name": "Python 3",
   "language": "python",
   "name": "python3"
  },
  "language_info": {
   "codemirror_mode": {
    "name": "ipython",
    "version": 3
   },
   "file_extension": ".py",
   "mimetype": "text/x-python",
   "name": "python",
   "nbconvert_exporter": "python",
   "pygments_lexer": "ipython3",
   "version": "3.7.6"
  }
 },
 "nbformat": 4,
 "nbformat_minor": 2
}
